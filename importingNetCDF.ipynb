{
 "cells": [
  {
   "cell_type": "code",
   "execution_count": 3,
   "id": "33851ee6-e33b-40fa-a97e-935eb022684e",
   "metadata": {
    "tags": []
   },
   "outputs": [],
   "source": [
    "import numpy as np\n",
    "import pandas as pd\n",
    "from netCDF4 import Dataset\n",
    "\n",
    "#import function for state geo data boundaries\n",
    "import state_locations\n",
    "\n",
    "#functions for datetime management\n",
    "import datetime\n",
    "from cftime import num2pydate"
   ]
  },
  {
   "cell_type": "code",
   "execution_count": 38,
   "id": "0603894c-f490-430f-b822-1e2d90116361",
   "metadata": {
    "tags": []
   },
   "outputs": [],
   "source": [
    "#### Loads netcdf file and important variables ####\n",
    "# Note: operates over one day of data based on the daily nature of each MERRA file # \n",
    "def get_data_from_netcdf(filename):\n",
    "    data = Dataset(filename)\n",
    "    \n",
    "    ### Extracts location variables and other important variables from \"data\" ###\n",
    "    lons = data.variables['lon'][:]\n",
    "    lats = data.variables['lat'][:]\n",
    "    tasmin = data.variables['tasmin'][:,:,:]\n",
    "    \n",
    "    # uses numbers and atributes from the CF time library to get the actual date\n",
    "    times = data.variables['time']\n",
    "    \n",
    "    # this function just creates an object with python data objects\n",
    "    time = num2pydate(times,units=times.units,calendar=times.calendar)\n",
    "    \n",
    "    # cycle to get every date from the object from the previous function and turn it to string\n",
    "    #for i in range(len(time)):\n",
    "    #    time[i] = time[i].strftime('%m/%d/%Y')\n",
    "    \n",
    "    # print the variables saved on the dataset\n",
    "    #print(data.variables)\n",
    "        \n",
    "    # Consolidates time, location, and variables of interest into one dataframe ###\n",
    "    names = ['t','y','x']\n",
    "    index = pd.MultiIndex.from_product([time,lats,lons], names=names)\n",
    "    df = pd.DataFrame({'tasmin': tasmin.flatten()}, index=index)['tasmin']\n",
    "    df.index.names = ['time', 'lats', 'lons']\n",
    "    df = df.reset_index(level=['time', 'lats', 'lons'])\n",
    "    #print(df)\n",
    "    \n",
    "    # get the data for the state of interest\n",
    "    W, E, S, N = state_locations.get_state_loc('IN')\n",
    "    \n",
    "    # create a subset from the bigger dataframe\n",
    "    INDIANA= df[((df[\"lats\"]> S)&(df[\"lats\"]< N))&((df[\"lons\"]> W)&(df[\"lons\"]< E))]\n",
    "    \n",
    "    # getting the first point for each day\n",
    "    point = INDIANA.drop_duplicates(\"time\")\n",
    "    \n",
    "    # filter by single year\n",
    "    for i in range(2041,2051):\n",
    "        # convert range to str \n",
    "        i = str(i)\n",
    "        # select every subset by year\n",
    "        out = point[point['time'].dt.strftime('%Y') == i]\n",
    "        # output to a csv file\n",
    "        out.to_csv(f'SII-CLIM-TASMIN-{i}.csv',index=False)\n",
    "        \n",
    "    \n",
    "    # output to a csv file\n",
    "    #INDIANA.to_csv('indiana.csv',index=False)\n",
    "\n",
    "    \n",
    "    \n",
    "    \n"
   ]
  },
  {
   "cell_type": "code",
   "execution_count": 39,
   "id": "6b1c001a-e2a2-4395-934d-eef1187b2a98",
   "metadata": {
    "tags": []
   },
   "outputs": [],
   "source": [
    "get_data_from_netcdf(\"/Users/inunezfe/Documents/data/TAS_MIN/tasmin_day_HadGEM2-ES_rcp45_r1i1p1_EWEMBI_20410101-20501231.nc4\")"
   ]
  },
  {
   "cell_type": "code",
   "execution_count": null,
   "id": "815cf9c7-e4d7-4ecb-be3a-2bc2a6c10063",
   "metadata": {},
   "outputs": [],
   "source": []
  }
 ],
 "metadata": {
  "kernelspec": {
   "display_name": "Python 3 (ipykernel)",
   "language": "python",
   "name": "python3"
  },
  "language_info": {
   "codemirror_mode": {
    "name": "ipython",
    "version": 3
   },
   "file_extension": ".py",
   "mimetype": "text/x-python",
   "name": "python",
   "nbconvert_exporter": "python",
   "pygments_lexer": "ipython3",
   "version": "3.9.7"
  }
 },
 "nbformat": 4,
 "nbformat_minor": 5
}
