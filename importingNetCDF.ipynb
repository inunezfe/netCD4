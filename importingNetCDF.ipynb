{
 "cells": [
  {
   "cell_type": "code",
   "execution_count": 15,
   "id": "33851ee6-e33b-40fa-a97e-935eb022684e",
   "metadata": {
    "tags": []
   },
   "outputs": [],
   "source": [
    "import numpy as np\n",
    "import pandas as pd\n",
    "from netCDF4 import Dataset\n",
    "import state_locations"
   ]
  },
  {
   "cell_type": "code",
   "execution_count": 18,
   "id": "0603894c-f490-430f-b822-1e2d90116361",
   "metadata": {
    "tags": []
   },
   "outputs": [],
   "source": [
    "#### Loads MERRA netcdf file and important variables ####\n",
    "# Note: operates over one day of data based on the daily nature of each MERRA file # \n",
    "def organize_MERRAvar(MERRA_file_path):\n",
    "    data = Dataset(MERRA_file_path)\n",
    "    \n",
    "    ### Extracts location variables and other important variables from \"data\" ###\n",
    "    lons = data.variables['lon'][:]\n",
    "    lats = data.variables['lat'][:]\n",
    "    hurs = data.variables['hurs'][:,:,:]\n",
    "    \n",
    "    ### print the variables saved on the dataset\n",
    "    #print(data.variables)\n",
    "    \n",
    "    ### Defines time variable ###\n",
    "    time = np.arange(1,hurs.shape[0]+1)\n",
    "    \n",
    "    \n",
    "    ### Consolidates time, location, and variables of interest (i.e. temp) into one dataframe ###\n",
    "    names = ['t','y','x']\n",
    "    index = pd.MultiIndex.from_product([time,lats,lons], names=names)\n",
    "    df = pd.DataFrame({'hurs': hurs.flatten()}, index=index)['hurs']\n",
    "    df.index.names = ['time', 'lats', 'lons']\n",
    "    df = df.reset_index(level=['time', 'lats', 'lons'])\n",
    "    print(df)\n",
    "    #df = pd.DataFrame.to_numpy(df)\n",
    "    \n",
    "    W, E, S, N = state_locations.get_state_loc('IN')\n",
    "    \n",
    "    INDIANA= df[((df[\"lats\"]> W)&(df[\"lats\"]< E))|((df[\"lons\"]> S)&(df[\"lons\"]< N))]\n",
    "    \n",
    "    print(INDIANA)\n",
    "    \n",
    "    # Adds temperature columns (one for each timestamp) # \n",
    "    #nlons = lons.shape[0]\n",
    "    #nlats = lats.shape[0]\n",
    "    #blockt0 = nlons*nlats\n",
    "    \n",
    "    \n",
    "    \n",
    "    \n",
    "    # Create temp matrix with the columns for each time + appends to df_new #\n",
    "    #df_new = df[0:blockt0,1:3]\n",
    "    #for count, value in enumerate(time,start=0):    \n",
    "    #    t_append = df[(count)*blockt0:(count+1)*blockt0,3]\n",
    "    #    df_new = np.column_stack((df_new,t_append))\n",
    "    \n",
    "    #print(df_new)\n",
    "    \n",
    "    #return df_new, time, lats, lons, nlons"
   ]
  },
  {
   "cell_type": "code",
   "execution_count": 19,
   "id": "6b1c001a-e2a2-4395-934d-eef1187b2a98",
   "metadata": {
    "tags": []
   },
   "outputs": [
    {
     "name": "stdout",
     "output_type": "stream",
     "text": [
      "           time   lats    lons       hurs\n",
      "0             1  89.75 -179.75  100.00000\n",
      "1             1  89.75 -179.25  100.00000\n",
      "2             1  89.75 -178.75  100.00000\n",
      "3             1  89.75 -178.25  100.00000\n",
      "4             1  89.75 -177.75  100.00000\n",
      "...         ...    ...     ...        ...\n",
      "473299195  1826 -89.75  177.75   91.79541\n",
      "473299196  1826 -89.75  178.25   91.79541\n",
      "473299197  1826 -89.75  178.75   91.79541\n",
      "473299198  1826 -89.75  179.25   91.79541\n",
      "473299199  1826 -89.75  179.75   91.79541\n",
      "\n",
      "[473299200 rows x 4 columns]\n",
      "           time   lats   lons       hurs\n",
      "435           1  89.75  37.75  100.00000\n",
      "436           1  89.75  38.25  100.00000\n",
      "437           1  89.75  38.75  100.00000\n",
      "438           1  89.75  39.25  100.00000\n",
      "439           1  89.75  39.75  100.00000\n",
      "...         ...    ...    ...        ...\n",
      "473298919  1826 -89.75  39.75   91.79541\n",
      "473298920  1826 -89.75  40.25   91.79541\n",
      "473298921  1826 -89.75  40.75   91.79541\n",
      "473298922  1826 -89.75  41.25   91.79541\n",
      "473298923  1826 -89.75  41.75   91.79541\n",
      "\n",
      "[15004242 rows x 4 columns]\n"
     ]
    }
   ],
   "source": [
    "organize_MERRAvar(\"/Users/inunezfe/Documents/hurs_day_HadGEM2-ES_rcp45_r1i1p1_EWEMBI_20060101-20101231.nc4\")"
   ]
  },
  {
   "cell_type": "code",
   "execution_count": 8,
   "id": "dad8f08f-ff6e-4393-b294-2074e35c4759",
   "metadata": {},
   "outputs": [
    {
     "name": "stdout",
     "output_type": "stream",
     "text": [
      "-88.125 -84.375 37.5 42.0\n"
     ]
    }
   ],
   "source": [
    "### coordinates from locations are in the following order: W, E, S, N\n",
    "W, E, S, N = state_locations.get_state_loc('IN')\n",
    "    \n",
    "print(W,E,S,N)"
   ]
  },
  {
   "cell_type": "code",
   "execution_count": 10,
   "id": "942d7a92-95d2-4b4c-a456-27496fcc06a8",
   "metadata": {},
   "outputs": [
    {
     "data": {
      "text/plain": [
       "True"
      ]
     },
     "execution_count": 10,
     "metadata": {},
     "output_type": "execute_result"
    }
   ],
   "source": [
    "-84 > -88"
   ]
  },
  {
   "cell_type": "code",
   "execution_count": null,
   "id": "ed1ccf3a-b136-4e2c-9475-5e24b50cabec",
   "metadata": {},
   "outputs": [],
   "source": []
  }
 ],
 "metadata": {
  "kernelspec": {
   "display_name": "Python 3 (ipykernel)",
   "language": "python",
   "name": "python3"
  },
  "language_info": {
   "codemirror_mode": {
    "name": "ipython",
    "version": 3
   },
   "file_extension": ".py",
   "mimetype": "text/x-python",
   "name": "python",
   "nbconvert_exporter": "python",
   "pygments_lexer": "ipython3",
   "version": "3.10.9"
  }
 },
 "nbformat": 4,
 "nbformat_minor": 5
}
