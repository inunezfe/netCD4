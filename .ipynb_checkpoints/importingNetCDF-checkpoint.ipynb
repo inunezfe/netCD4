{
 "cells": [
  {
   "cell_type": "code",
   "execution_count": 1,
   "id": "33851ee6-e33b-40fa-a97e-935eb022684e",
   "metadata": {
    "tags": []
   },
   "outputs": [],
   "source": [
    "import numpy as np\n",
    "import pandas as pd\n",
    "from netCDF4 import Dataset\n",
    "\n",
    "#import function for state geo data boundaries\n",
    "import state_locations\n",
    "\n",
    "#functions for datetime management\n",
    "import datetime\n",
    "from cftime import num2pydate"
   ]
  },
  {
   "cell_type": "code",
   "execution_count": 2,
   "id": "0603894c-f490-430f-b822-1e2d90116361",
   "metadata": {
    "tags": []
   },
   "outputs": [],
   "source": [
    "#### Loads MERRA netcdf file and important variables ####\n",
    "# Note: operates over one day of data based on the daily nature of each MERRA file # \n",
    "def get_data_from_netcdf(filename):\n",
    "    data = Dataset(filename)\n",
    "    \n",
    "    ### Extracts location variables and other important variables from \"data\" ###\n",
    "    lons = data.variables['lon'][:]\n",
    "    lats = data.variables['lat'][:]\n",
    "    hurs = data.variables['hurs'][:,:,:]\n",
    "    \n",
    "    # uses numbers and atributes from the CF time library to get the actual date\n",
    "    times = data.variables['time']\n",
    "    # this function just creates an object with python data objects\n",
    "    time = num2pydate(times,units=times.units,calendar=times.calendar)\n",
    "    \n",
    "    # cycle to get every date from the object from the previous function\n",
    "    for i in range(len(time)):\n",
    "        time[i] = time[i].strftime('%m/%d/%Y')\n",
    "    \n",
    "    # print the variables saved on the dataset\n",
    "    #print(data.variables)\n",
    "  \n",
    "    \n",
    "    # Consolidates time, location, and variables of interest into one dataframe ###\n",
    "    names = ['t','y','x']\n",
    "    index = pd.MultiIndex.from_product([time,lats,lons], names=names)\n",
    "    df = pd.DataFrame({'hurs': hurs.flatten()}, index=index)['hurs']\n",
    "    df.index.names = ['time', 'lats', 'lons']\n",
    "    df = df.reset_index(level=['time', 'lats', 'lons'])\n",
    "    #print(df)\n",
    "    \n",
    "    # get the data for the state of interest\n",
    "    W, E, S, N = state_locations.get_state_loc('IN')\n",
    "    \n",
    "    # create a subset from the bigger dataframe\n",
    "    INDIANA= df[((df[\"lats\"]> W)&(df[\"lats\"]< E))&((df[\"lons\"]> S)&(df[\"lons\"]< N))]\n",
    "    \n",
    "    #print(INDIANA)\n",
    "    \n",
    "    # output to a csv file\n",
    "    INDIANA.to_csv('indiana.csv',index=False)\n",
    "\n",
    "    \n",
    "    \n",
    "    \n"
   ]
  },
  {
   "cell_type": "code",
   "execution_count": 3,
   "id": "6b1c001a-e2a2-4395-934d-eef1187b2a98",
   "metadata": {
    "tags": []
   },
   "outputs": [
    {
     "name": "stdout",
     "output_type": "stream",
     "text": [
      "                 time   lats   lons       hurs\n",
      "251715     01/01/2006 -84.75  37.75  75.384926\n",
      "251716     01/01/2006 -84.75  38.25  75.050568\n",
      "251717     01/01/2006 -84.75  38.75  72.961006\n",
      "251718     01/01/2006 -84.75  39.25  73.098534\n",
      "251719     01/01/2006 -84.75  39.75  73.249413\n",
      "...               ...    ...    ...        ...\n",
      "473296039  12/31/2010 -87.75  39.75  90.803444\n",
      "473296040  12/31/2010 -87.75  40.25  90.904510\n",
      "473296041  12/31/2010 -87.75  40.75  91.029114\n",
      "473296042  12/31/2010 -87.75  41.25  91.027733\n",
      "473296043  12/31/2010 -87.75  41.75  91.056358\n",
      "\n",
      "[115038 rows x 4 columns]\n"
     ]
    }
   ],
   "source": [
    "get_data_from_netcdf(\"/Users/inunezfe/Documents/hurs_day_HadGEM2-ES_rcp45_r1i1p1_EWEMBI_20060101-20101231.nc4\")\n",
    "#organize_MERRAvar(\"/Users/inunezfe/Documents/hurs_day_HadGEM2-ES_rcp45_r1i1p1_EWEMBI_20060101-20101231.nc4\")\n",
    "#organize_MERRAvar(\"/Users/inunezfe/Documents/hurs_day_HadGEM2-ES_rcp45_r1i1p1_EWEMBI_20060101-20101231.nc4\")\n",
    "#organize_MERRAvar(\"/Users/inunezfe/Documents/hurs_day_HadGEM2-ES_rcp45_r1i1p1_EWEMBI_20060101-20101231.nc4\")"
   ]
  },
  {
   "cell_type": "code",
   "execution_count": null,
   "id": "815cf9c7-e4d7-4ecb-be3a-2bc2a6c10063",
   "metadata": {},
   "outputs": [],
   "source": []
  }
 ],
 "metadata": {
  "kernelspec": {
   "display_name": "Python 3 (ipykernel)",
   "language": "python",
   "name": "python3"
  },
  "language_info": {
   "codemirror_mode": {
    "name": "ipython",
    "version": 3
   },
   "file_extension": ".py",
   "mimetype": "text/x-python",
   "name": "python",
   "nbconvert_exporter": "python",
   "pygments_lexer": "ipython3",
   "version": "3.9.7"
  }
 },
 "nbformat": 4,
 "nbformat_minor": 5
}
